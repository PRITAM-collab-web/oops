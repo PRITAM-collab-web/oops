{
  "nbformat": 4,
  "nbformat_minor": 0,
  "metadata": {
    "colab": {
      "provenance": []
    },
    "kernelspec": {
      "name": "python3",
      "display_name": "Python 3"
    },
    "language_info": {
      "name": "python"
    }
  },
  "cells": [
    {
      "cell_type": "markdown",
      "source": [
        "# **python oops questions**\n",
        "\n",
        "(1)What is Object-Oriented Programming (OOP)?\n",
        "-->Object-oriented programming (OOP) is a style of programming characterized by the identification of classes of objects closely linked with the methods (functions) with which they are associated\n",
        "\n",
        "(2)What is a class in OOP?\n",
        "-->a class is a blueprint or template for creating objects.\n",
        "\n",
        "(3)What is an object in OOP?\n",
        "-->An object is a component of a program that knows how to perform certain actions and how to interact with other elements of the program\n",
        "\n",
        "(4)What is the difference between abstraction and encapsulation?\n",
        "-->Abstraction focuses on what an object does, while encapsulation focuses on how it does it.\n",
        "\n",
        "(5) What are dunder methods in Python?\n",
        "-->Dunder methods such as __add__ , __sub__ , __mul__ , and their in-place variants allow your objects to support arithmetic operations.\n",
        "\n",
        "(6)Explain the concept of inheritance in OOP.\n",
        "-->oops is a mechanism where a new class (the subclass or child class) is created based on an existing class (the superclass or parent class), inheriting its attributes and methods.\n",
        "\n",
        "(7)What is polymorphism in OOP?\n",
        "-->Polymorphism is the ability of an object to take on many forms or behaviors.\n",
        "\n",
        "(8)How is encapsulation achieved in Python?\n",
        "-->Encapsulation is achieved by declaring a class's data members and methods as either private or protected.\n",
        "\n",
        "(9)What is a constructor in Python?\n",
        "-->In Python, a constructor is a special method called when an object is created.\n",
        "\n",
        "(10)What are class and static methods in Python?\n",
        "-->Class methods can access and modify class-level attributes. They have access to the class object and can modify class variables or create new instances of the class. Static methods, on the other hand, do not have access to the class object and cannot modify any class-level attributes.\n",
        "\n",
        "(11)What is method overloading in Python?\n",
        "-->Method overloading allows a class to define multiple methods with the same name, but different signatures.\n",
        "\n",
        "(12) What is method overriding in OOP?\n",
        "-->Method overriding is a mechanism in OOP that allows a subclass to provide a specific implementation for a method that is already defined in its superclass.\n",
        "\n",
        "(13)What is a property decorator in Python?\n",
        "-->Python's property decorator allows you to define methods that act like attributes, providing a way to manage how the attribute is accessed and modified.\n",
        "\n",
        "(14)Why is polymorphism important in OOP?\n",
        "-->it allows objects of different classes to be treated as objects of a common type, promoting code reusability, flexibility, and maintainability.\n",
        "\n",
        "(15)what is an abstract class in Python?\n",
        "-->An abstract class is like a template for other classes.\n",
        "\n",
        "(16)What are the advantages of OOP?\n",
        "-->oops offers several advantages, primarily enhancing code organization, reusability, and maintainability.\n",
        "\n",
        "(17)What is the difference between a class variable and an instance variable?\n",
        "-->Class variables are shared among all instances of a class, while instance variables are unique to each object (instance) of a class.\n",
        "\n",
        "(18) What is multiple inheritance in Python?\n",
        "-->allows a child class to inherit from more than one parent class, combining attributes and behaviors from each.\n",
        "\n",
        "(19) Explain the purpose of ‘’__str__’ and ‘__repr__’ ‘ methods in Python.\n",
        "-->__repr__() returns the official string representation, which is aimed at programmers as they develop and maintain a program. The special method . __str__() returns the informal string representation, a friendlier format for the program's user.\n",
        "\n",
        "(20)What is the significance of the ‘super()’ function in Python?\n",
        "-->In Python, super() is a built-in function that allows access to methods and properties of a parent or superclass from a child or subclass.\n",
        "\n",
        "(21)What is the significance of the __del__ method in Python?\n",
        "-->The __del__ method in Python is a powerful tool for managing resource cleanup when objects are destroyed.\n",
        "\n",
        "(22)What is the difference between @staticmethod and @classmethod in Python?\n",
        "-->@classmethod:\n",
        ">Takes the class itself (cls) as its first argument.\n",
        ">Can access and modify class-level attributes and methods.\n",
        ">Often used for factory methods that create instances of the class with specific configurations, or for methods that operate on class-level data.\n",
        "\n",
        "(23) How does polymorphism work in Python with inheritance?\n",
        "-->Polymorphism lets objects of diverse types share the same interface, empowering methods to be executed unexpectedly based on the object type.\n",
        "\n",
        "(24)What is method chaining in Python OOP?\n",
        "-->Methods chaining is a style of programming in which invoking multiple method calls occurs sequentially.\n",
        "\n",
        "(25)What is the purpose of the __call__ method in Python?\n",
        "--> This method enables you to call the instances of your class as you'd call regular Python functions.\n",
        "\n",
        "\n",
        "\n",
        "      # **practical questions**\n",
        "\n",
        "(1)Create a parent class Animal with a method speak() that prints a generic message. Create a child class Dog\n",
        "that overrides the speak() method to print \"Bark!\".\n"
      ],
      "metadata": {
        "id": "Pmk-kcpxdQnr"
      }
    },
    {
      "cell_type": "code",
      "execution_count": null,
      "metadata": {
        "id": "Yw5xClbVH_89",
        "colab": {
          "base_uri": "https://localhost:8080/"
        },
        "outputId": "01544239-d55b-4bb3-aa25-5746229d104a"
      },
      "outputs": [
        {
          "output_type": "stream",
          "name": "stdout",
          "text": [
            "animal sound\n",
            "bark!\n"
          ]
        }
      ],
      "source": [
        "class animal:\n",
        "  def speak(self):\n",
        "    print(\"animal sound\")\n",
        "class dog(animal):\n",
        "  def speak(self):\n",
        "    print(\"bark!\")\n",
        "anm = animal()\n",
        "dog = dog()\n",
        "anm.speak()\n",
        "dog.speak()"
      ]
    },
    {
      "cell_type": "markdown",
      "source": [
        "(2)Write a program to create an abstract class Shape with a method area(). Derive classes Circle and Rectangle\n",
        "from it and implement the area() method in both.\n"
      ],
      "metadata": {
        "id": "M7ZuI7Nasrxf"
      }
    },
    {
      "cell_type": "code",
      "source": [
        "import abc\n",
        "import math\n",
        "\n",
        "# Define the abstract class Shape\n",
        "class Shape(abc.ABC):\n",
        "    @abc.abstractmethod\n",
        "    def area(self):\n",
        "        pass\n",
        "\n",
        "# Define the Circle class, inheriting from Shape\n",
        "class Circle(Shape):\n",
        "    def __init__(self, radius):\n",
        "        self.radius = radius\n",
        "\n",
        "    def area(self):\n",
        "        return math.pi * self.radius**2\n",
        "\n",
        "# Define the Rectangle class, inheriting from Shape\n",
        "class Rectangle(Shape):\n",
        "    def __init__(self, length, width):\n",
        "        self.length = length\n",
        "        self.width = width\n",
        "\n",
        "    def area(self):\n",
        "        return self.length * self.width\n",
        "\n",
        "# Example Usage\n",
        "circle = Circle(5)\n",
        "rectangle = Rectangle(4, 6)\n",
        "\n",
        "print(f\"Area of circle: {circle.area()}\")\n",
        "print(f\"Area of rectangle: {rectangle.area()}\")"
      ],
      "metadata": {
        "colab": {
          "base_uri": "https://localhost:8080/"
        },
        "id": "8Pt5HXOKs3vz",
        "outputId": "cf613d9f-8e20-41a8-e78d-df29439ca860"
      },
      "execution_count": null,
      "outputs": [
        {
          "output_type": "stream",
          "name": "stdout",
          "text": [
            "Area of circle: 78.53981633974483\n",
            "Area of rectangle: 24\n"
          ]
        }
      ]
    },
    {
      "cell_type": "markdown",
      "source": [
        "(3)Implement a multi-level inheritance scenario where a class Vehicle has an attribute type. Derive a class Car\n",
        "and further derive a class ElectricCar that adds a battery attribute."
      ],
      "metadata": {
        "id": "0rCMJ1OGu16P"
      }
    },
    {
      "cell_type": "code",
      "source": [
        "class Vehicle:\n",
        "    def __init__(self, type):\n",
        "        self.type = type\n",
        "\n",
        "class Car(Vehicle):\n",
        "    def __init__(self, type, model):\n",
        "        super().__init__(type)\n",
        "        self.model = model\n",
        "\n",
        "class ElectricCar(Car):\n",
        "    def __init__(self, type, model, battery):\n",
        "        super().__init__(type, model)\n",
        "        self.battery = battery\n",
        "\n",
        "my_vehicle = Vehicle(\"4-wheeler\")\n",
        "my_car = Car(\"4-wheeler\", \"Sedan\")\n",
        "my_electric_car = ElectricCar(\"4-wheeler\", \"SUV\", \"100kWh\")\n",
        "\n",
        "print(f\"Vehicle type: {my_vehicle.type}\")\n",
        "print(f\"Car model: {my_car.model}, Type: {my_car.type}\")\n",
        "print(f\"Electric car model: {my_electric_car.model}, Type: {my_electric_car.type}, Battery: {my_electric_car.battery}\")"
      ],
      "metadata": {
        "colab": {
          "base_uri": "https://localhost:8080/"
        },
        "id": "klkFC442u6P_",
        "outputId": "84cf1519-0eb5-4d9e-c1ea-ef823487b5cc"
      },
      "execution_count": null,
      "outputs": [
        {
          "output_type": "stream",
          "name": "stdout",
          "text": [
            "Vehicle type: 4-wheeler\n",
            "Car model: Sedan, Type: 4-wheeler\n",
            "Electric car model: SUV, Type: 4-wheeler, Battery: 100kWh\n"
          ]
        }
      ]
    },
    {
      "cell_type": "markdown",
      "source": [
        "(4) Demonstrate polymorphism by creating a base class Bird with a method fly(). Create two derived classes\n",
        "Sparrow and Penguin that override the fly() method."
      ],
      "metadata": {
        "id": "HPipq_a8wNmy"
      }
    },
    {
      "cell_type": "code",
      "source": [
        "class Bird:\n",
        "    def fly(self):\n",
        "        print(\"The bird is flying.\")\n",
        "\n",
        "class Sparrow(Bird):\n",
        "    def fly(self):\n",
        "        print(\"A sparrow is flying high.\")\n",
        "\n",
        "class Penguin(Bird):\n",
        "    def fly(self):\n",
        "        print(\"A penguin cannot fly, it swims.\")\n",
        "\n",
        "bird = Bird()\n",
        "sparrow = Sparrow()\n",
        "penguin = Penguin()\n",
        "\n",
        "bird.fly()\n",
        "sparrow.fly()\n",
        "penguin.fly()"
      ],
      "metadata": {
        "colab": {
          "base_uri": "https://localhost:8080/"
        },
        "id": "Ib3Ybsxlwprk",
        "outputId": "fc6446f9-8f3e-464b-8f2b-bf2db463d4fc"
      },
      "execution_count": null,
      "outputs": [
        {
          "output_type": "stream",
          "name": "stdout",
          "text": [
            "The bird is flying.\n",
            "A sparrow is flying high.\n",
            "A penguin cannot fly, it swims.\n"
          ]
        }
      ]
    },
    {
      "cell_type": "markdown",
      "source": [
        "(5) Write a program to demonstrate encapsulation by creating a class BankAccount with private attributes\n",
        "balance and methods to deposit, withdraw, and check balance."
      ],
      "metadata": {
        "id": "rIgAJ-r1w4jv"
      }
    },
    {
      "cell_type": "code",
      "source": [
        "class bank:\n",
        "    def __init__(self, balance):\n",
        "        self.__balance = balance\n",
        "    def deposit(self, ammount): #ammount is new depositting\n",
        "        self.__balance = self.__balance + ammount\n",
        "    def withdraw(self, ammount):\n",
        "        if self.__balance >= ammount:\n",
        "            self.__balance = self.__balance - ammount\n",
        "            return True\n",
        "        else:\n",
        "            return False\n",
        "    def check_balance(self):\n",
        "        return self.__balance\n",
        "bk = bank(1000000)\n",
        "print(bk.deposit(5000))\n",
        "print(bk.withdraw(10000))\n",
        "print(bk.check_balance())\n"
      ],
      "metadata": {
        "colab": {
          "base_uri": "https://localhost:8080/"
        },
        "id": "VbuSpZ9Pw8m2",
        "outputId": "6d6f0cc1-b468-4d68-d5af-7a9d9b617712"
      },
      "execution_count": null,
      "outputs": [
        {
          "output_type": "stream",
          "name": "stdout",
          "text": [
            "None\n",
            "True\n",
            "995000\n"
          ]
        }
      ]
    },
    {
      "cell_type": "markdown",
      "source": [
        "(6)Demonstrate runtime polymorphism using a method play() in a base class Instrument. Derive classes Guitar\n",
        "and Piano that implement their own version of play()."
      ],
      "metadata": {
        "id": "d8koFgov0PQe"
      }
    },
    {
      "cell_type": "code",
      "source": [
        "class instrument:\n",
        "  def play(self):\n",
        "    pass\n",
        "class guitar(instrument):\n",
        "  def play(self):\n",
        "    print(\"guitar is playing\")\n",
        "class piano(instrument):\n",
        "  def play(self):\n",
        "    print(\"piano is playing\")\n",
        "g = guitar()\n",
        "p = piano()\n",
        "g.play()\n",
        "p.play()"
      ],
      "metadata": {
        "colab": {
          "base_uri": "https://localhost:8080/"
        },
        "id": "hH9d0Vez0Ut1",
        "outputId": "17a4c69a-47a2-44c8-eef3-d21e2bed89e3"
      },
      "execution_count": null,
      "outputs": [
        {
          "output_type": "stream",
          "name": "stdout",
          "text": [
            "guitar is playing\n",
            "piano is playing\n"
          ]
        }
      ]
    },
    {
      "cell_type": "markdown",
      "source": [
        "(7)Create a class MathOperations with a class method add_numbers() to add two numbers and a static\n",
        "method subtract_numbers() to subtract two numbers."
      ],
      "metadata": {
        "id": "LYXj1AXw3rdT"
      }
    },
    {
      "cell_type": "code",
      "source": [
        "class mathoperations:\n",
        "  @classmethod\n",
        "  def add_numbers(cls, num1, num2):\n",
        "    return num1 + num2\n",
        "  @staticmethod\n",
        "  def subtract_numbers(num1, num2):\n",
        "    return num1 - num2\n",
        "sum_result = mathoperations.add_numbers(5, 4)\n",
        "subtract_result = mathoperations.subtract_numbers(10, 5)\n",
        "print(f\"Sum: {sum_result}\")\n",
        "print(f\"substraction: {subtract_result}\")\n"
      ],
      "metadata": {
        "colab": {
          "base_uri": "https://localhost:8080/"
        },
        "id": "UmsilmTT3v6N",
        "outputId": "36711273-04b9-4fc5-ba0f-24efad07ff7c"
      },
      "execution_count": null,
      "outputs": [
        {
          "output_type": "stream",
          "name": "stdout",
          "text": [
            "Sum: 9\n",
            "substraction: 5\n"
          ]
        }
      ]
    },
    {
      "cell_type": "markdown",
      "source": [
        "(8)Implement a class Person with a class method to count the total number of persons created."
      ],
      "metadata": {
        "id": "QoGSBLeI4385"
      }
    },
    {
      "cell_type": "code",
      "source": [
        "class person:\n",
        "  count =0\n",
        "  def __init__(self, name):\n",
        "    self.name = name\n",
        "    person.count += 1\n",
        "\n",
        "  @classmethod\n",
        "  def total_person(cls):\n",
        "    return cls.count\n",
        "person1 = person(\"pritam\")\n",
        "person2 = person(\"ayantika\")\n",
        "print(f\"total persons:{person.total_person()}\")"
      ],
      "metadata": {
        "colab": {
          "base_uri": "https://localhost:8080/"
        },
        "id": "XDu-kY4d4_aF",
        "outputId": "6beef0c8-a9e1-443e-9b2f-ea81fab93ec0"
      },
      "execution_count": null,
      "outputs": [
        {
          "output_type": "stream",
          "name": "stdout",
          "text": [
            "total persons:2\n"
          ]
        }
      ]
    },
    {
      "cell_type": "markdown",
      "source": [
        "(9)Write a class Fraction with attributes numerator and denominator. Override the str method to display the\n",
        "fraction as \"numerator/denominator\"."
      ],
      "metadata": {
        "id": "AcOAEb8N6vDw"
      }
    },
    {
      "cell_type": "code",
      "source": [
        "class Fraction:\n",
        "    def __init__(self, numerator, denominator):\n",
        "        self.numerator = numerator\n",
        "        self.denominator = denominator\n",
        "\n",
        "    def __str__(self):\n",
        "        return f\"{self.numerator}/{self.denominator}\"\n",
        "fr = Fraction(3, 4)\n",
        "print(fr)"
      ],
      "metadata": {
        "id": "OoXMnoWm60qg",
        "colab": {
          "base_uri": "https://localhost:8080/"
        },
        "outputId": "7c4dfb7d-b341-4c08-ccee-9507b764216e"
      },
      "execution_count": 3,
      "outputs": [
        {
          "output_type": "stream",
          "name": "stdout",
          "text": [
            "3/4\n"
          ]
        }
      ]
    },
    {
      "cell_type": "markdown",
      "source": [
        "(10) Demonstrate operator overloading by creating a class Vector and overriding the add method to add two\n",
        "vectors."
      ],
      "metadata": {
        "id": "sficZE43wYmW"
      }
    },
    {
      "cell_type": "code",
      "source": [
        "class vector:\n",
        "  def __init__(self, x,y):\n",
        "    self.x = x\n",
        "    self.y = y\n",
        "  def __add__(self, other):\n",
        "    if isinstance(other,vector):\n",
        "      return vector(self.x + other.x, self.y + other.y)\n",
        "  def __str__(self):\n",
        "    return f\"({self.x}, {self.y})\"\n",
        "v1 = vector(1,2)\n",
        "v2 = vector(3,4)\n",
        "result = v1 + v2\n",
        "print(result)\n"
      ],
      "metadata": {
        "colab": {
          "base_uri": "https://localhost:8080/"
        },
        "id": "zej82ggQwdVX",
        "outputId": "c3149b18-c3fb-4318-b6ab-640aa2a70ef3"
      },
      "execution_count": 5,
      "outputs": [
        {
          "output_type": "stream",
          "name": "stdout",
          "text": [
            "(4, 6)\n"
          ]
        }
      ]
    },
    {
      "cell_type": "markdown",
      "source": [
        "(11)Create a class Person with attributes name and age. Add a method greet() that prints \"Hello, my name is\n",
        "{name} and I am {age} years old.\""
      ],
      "metadata": {
        "id": "opzk1LkDz-1m"
      }
    },
    {
      "cell_type": "code",
      "source": [
        "class person:\n",
        "  def greet(self, name, age):\n",
        "    self.name = name\n",
        "    self.age = age\n",
        "    print(f\"Hello, my name is {self.name} and I am {self.age} years old.\")\n",
        "p = person()\n",
        "p.greet(\"pritam\", 25)"
      ],
      "metadata": {
        "colab": {
          "base_uri": "https://localhost:8080/"
        },
        "id": "LzAMjIhZ0EzZ",
        "outputId": "39c6aeae-7446-4eb9-c122-9482d1cbebcd"
      },
      "execution_count": 6,
      "outputs": [
        {
          "output_type": "stream",
          "name": "stdout",
          "text": [
            "Hello, my name is pritam and I am 25 years old.\n"
          ]
        }
      ]
    },
    {
      "cell_type": "markdown",
      "source": [
        "(12)Implement a class Student with attributes name and grades. Create a method average_grade() to compute\n",
        "the average of the grades."
      ],
      "metadata": {
        "id": "oRWkhxkE0dei"
      }
    },
    {
      "cell_type": "code",
      "source": [
        "class student:\n",
        "  def __init__(self, name, grades):\n",
        "    self.name = name\n",
        "    self.grades = grades\n",
        "  def add_grade(self, grade):\n",
        "    self.grades.append(grade)\n",
        "  def average_grade(self):\n",
        "    return sum(self.grades) / len(self.grades)\n",
        "avrg = student(\"pritam\", [80,95,45,78,66])\n",
        "print(avrg.average_grade())\n"
      ],
      "metadata": {
        "colab": {
          "base_uri": "https://localhost:8080/"
        },
        "id": "poH40MON0hRE",
        "outputId": "3053ab02-3e6b-4682-fcd3-9a3751d3aa11"
      },
      "execution_count": 9,
      "outputs": [
        {
          "output_type": "stream",
          "name": "stdout",
          "text": [
            "72.8\n"
          ]
        }
      ]
    },
    {
      "cell_type": "markdown",
      "source": [
        "(13)Create a class Rectangle with methods set_dimensions() to set the dimensions and area() to calculate the\n",
        "area."
      ],
      "metadata": {
        "id": "7z7nJCcV2AKf"
      }
    },
    {
      "cell_type": "code",
      "source": [
        "class rectangle:\n",
        "  def __init__(self):\n",
        "    self.length = 0\n",
        "    self.width = 0\n",
        "  def set_dimensions(self, length, width):\n",
        "    self.length = length\n",
        "    self.width = width\n",
        "  def area(self):\n",
        "    return self.length * self.width\n",
        "ar = rectangle()\n",
        "ar.set_dimensions(8,5)\n",
        "area = ar.area()\n",
        "print(area)\n"
      ],
      "metadata": {
        "colab": {
          "base_uri": "https://localhost:8080/"
        },
        "id": "VjPVMDkw2EVH",
        "outputId": "3181bd22-e2a8-4c92-e407-67fc7a0972fb"
      },
      "execution_count": 10,
      "outputs": [
        {
          "output_type": "stream",
          "name": "stdout",
          "text": [
            "40\n"
          ]
        }
      ]
    },
    {
      "cell_type": "markdown",
      "source": [
        "(14)Create a class Employee with a method calculate_salary() that computes the salary based on hours worked\n",
        "and hourly rate. Create a derived class Manager that adds a bonus to the salary."
      ],
      "metadata": {
        "id": "B6F3zuVt3zCn"
      }
    },
    {
      "cell_type": "code",
      "source": [
        "class employee:\n",
        "  def __init__(self, name, hours_worked, hourly_rate):\n",
        "    self.name = name\n",
        "    self.hours_worked = hours_worked\n",
        "    self.hourly_rate = hourly_rate\n",
        "  def calculate_salary(self):\n",
        "    return self.hours_worked * self.hourly_rate\n",
        "class manager(employee):\n",
        "  def __init__(self, name, hours_worked, hourly_rate, bonus):\n",
        "    super().__init__(name, hours_worked, hourly_rate)\n",
        "    self.bonus = bonus\n",
        "result =employee(\"pritam\", 40, 50)\n",
        "print(result.calculate_salary())"
      ],
      "metadata": {
        "colab": {
          "base_uri": "https://localhost:8080/"
        },
        "id": "14J3prs734TB",
        "outputId": "a6559a53-a544-450a-87b5-01a833586996"
      },
      "execution_count": 12,
      "outputs": [
        {
          "output_type": "stream",
          "name": "stdout",
          "text": [
            "2000\n"
          ]
        }
      ]
    },
    {
      "cell_type": "markdown",
      "source": [
        "(15)Create a class Product with attributes name, price, and quantity. Implement a method total_price() that\n",
        "calculates the total price of the product"
      ],
      "metadata": {
        "id": "z4zJM50X7ag9"
      }
    },
    {
      "cell_type": "code",
      "source": [
        "class product:\n",
        "  def __init__(self, price, quantity):\n",
        "    self.price = price\n",
        "    self.quantity = quantity\n",
        "  def total_price(self):\n",
        "    return self.price * self.quantity\n",
        "pr = product(100,15)\n",
        "pr.total_price()"
      ],
      "metadata": {
        "colab": {
          "base_uri": "https://localhost:8080/"
        },
        "id": "dk7lN0za7fL4",
        "outputId": "ee6da266-5907-4d92-f430-6c26d4f62e2e"
      },
      "execution_count": 13,
      "outputs": [
        {
          "output_type": "execute_result",
          "data": {
            "text/plain": [
              "1500"
            ]
          },
          "metadata": {},
          "execution_count": 13
        }
      ]
    },
    {
      "cell_type": "markdown",
      "source": [
        "(16)Create a class Animal with an abstract method sound(). Create two derived classes Cow and Sheep that\n",
        "implement the sound() method."
      ],
      "metadata": {
        "id": "tr915MWj8fv-"
      }
    },
    {
      "cell_type": "code",
      "source": [
        "from abc import ABC, abstractmethod\n",
        "\n",
        "class animal(ABC):\n",
        "    @abstractmethod\n",
        "    def sound(self):\n",
        "        pass\n",
        "\n",
        "class cow(animal):\n",
        "  def sound(self):\n",
        "    return \"houmba\"\n",
        "class sheep(animal):\n",
        "  def sound(self):\n",
        "     return \"baaaaa\"\n",
        "c = cow()\n",
        "s = sheep()\n",
        "print(c.sound())\n",
        "print(s.sound())\n",
        "\n"
      ],
      "metadata": {
        "colab": {
          "base_uri": "https://localhost:8080/"
        },
        "id": "9WdwqZZA8ldU",
        "outputId": "1353b847-9691-4c5a-f1ed-b102d6574b15"
      },
      "execution_count": 15,
      "outputs": [
        {
          "output_type": "stream",
          "name": "stdout",
          "text": [
            "houmba\n",
            "baaaaa\n"
          ]
        }
      ]
    },
    {
      "cell_type": "markdown",
      "source": [
        "(17)Create a class Book with attributes title, author, and year_published. Add a method get_book_info() that\n",
        "returns a formatted string with the book's details."
      ],
      "metadata": {
        "id": "xTIqNMCL93rk"
      }
    },
    {
      "cell_type": "code",
      "source": [
        "class book:\n",
        "  def __init__(self, title, author, year_published):\n",
        "    self.title = title\n",
        "    self.author = author\n",
        "    self.year_published = year_published\n",
        "  def get_book_info(self):\n",
        "    return f\"Title: {self.title}\\nAuthor: {self.author}\\nYear Published: {self.year_published}\"\n",
        "b = book(\"python\", \"pritam\", 2025)\n",
        "print(b.get_book_info())"
      ],
      "metadata": {
        "colab": {
          "base_uri": "https://localhost:8080/"
        },
        "id": "C9COriL098Nm",
        "outputId": "dd982fb0-430f-4117-d993-2bcc03416e7a"
      },
      "execution_count": 16,
      "outputs": [
        {
          "output_type": "stream",
          "name": "stdout",
          "text": [
            "Title: python\n",
            "Author: pritam\n",
            "Year Published: 2025\n"
          ]
        }
      ]
    },
    {
      "cell_type": "markdown",
      "source": [
        "(18) Create a class House with attributes address and price. Create a derived class Mansion that adds an\n",
        "attribute number_of_rooms."
      ],
      "metadata": {
        "id": "a7IQO3y9-m45"
      }
    },
    {
      "cell_type": "code",
      "source": [
        "class house:\n",
        "  def __init__(self, address, price):\n",
        "    self.address = address\n",
        "    self.price = price\n",
        "  def __str__(self):\n",
        "    return f\"Address: {self.address}\\nPrice: {self.price}\"\n",
        "class mansion(house):\n",
        "  def __init__(self, address, price, number_of_rooms):\n",
        "    super().__init__(address, price)\n",
        "    self.number_of_rooms = number_of_rooms\n",
        "  def __str__(self):\n",
        "    return f\"{super().__str__()}\\nNumber of Rooms: {self.number_of_rooms}\"\n",
        "h = house(\"123 Main St\", 250000)\n",
        "print(h)\n",
        "r = mansion(\"125 Main St\", 450000, 5)\n",
        "print(r)"
      ],
      "metadata": {
        "colab": {
          "base_uri": "https://localhost:8080/"
        },
        "id": "SglDPxDG-rE8",
        "outputId": "8489480d-9553-4d6f-da5b-70417f744ebe"
      },
      "execution_count": 27,
      "outputs": [
        {
          "output_type": "stream",
          "name": "stdout",
          "text": [
            "Address: 123 Main St\n",
            "Price: 250000\n",
            "Address: 125 Main St\n",
            "Price: 450000\n",
            "Number of Rooms: 5\n"
          ]
        }
      ]
    }
  ]
}